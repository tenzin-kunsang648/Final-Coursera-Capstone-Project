{
 "cells": [
  {
   "cell_type": "code",
   "execution_count": 1,
   "metadata": {
    "tags": []
   },
   "outputs": [
    {
     "name": "stdout",
     "output_type": "stream",
     "text": [
      "Libraries imported.\n"
     ]
    }
   ],
   "source": [
    "import pandas as pd # library for data analsysis\n",
    "pd.set_option('display.max_columns', None)\n",
    "pd.set_option('display.max_rows', None)\n",
    "\n",
    "import json # library to handle JSON files\n",
    "\n",
    "#!conda install -c conda-forge geopy --yes #uncomment if geopy has not been installed \n",
    "from geopy.geocoders import Nominatim # convert an address into latitude and longitude values\n",
    "\n",
    "import requests # library to handle requests\n",
    "from pandas.io.json import json_normalize # tranform JSON file into a pandas dataframe\n",
    "\n",
    "# Matplotlib and associated plotting modules\n",
    "import matplotlib.cm as cm\n",
    "import matplotlib.colors as colors\n",
    "\n",
    "# import k-means from clustering stage\n",
    "from sklearn.cluster import KMeans\n",
    "\n",
    "#!conda install -c conda-forge folium=0.5.0 --yes #uncomment if folium has not been installed \n",
    "import folium # map rendering library\n",
    "\n",
    "#!pip install BeautifulSoup4\n",
    "from urllib.request import urlopen\n",
    "from bs4 import BeautifulSoup\n",
    "import ssl\n",
    "import csv\n",
    "\n",
    "import urllib.parse\n",
    "import urllib.error\n",
    "import ast\n",
    "import os\n",
    "from urllib.request import Request, urlopen\n",
    "\n",
    "#to extract the csv file of latitude and longitude \n",
    "import io \n",
    "\n",
    "print('Libraries imported.')\n"
   ]
  },
  {
   "cell_type": "code",
   "execution_count": 2,
   "metadata": {},
   "outputs": [
    {
     "name": "stdout",
     "output_type": "stream",
     "text": [
      "Your credentails:\n",
      "CLIENT_ID: TN32UEOPQPWXMDYXAIEPZ3C4G0Q2XG1KOI3K4P5BNBV5NIVL\n",
      "CLIENT_SECRET:VXCCMMIUMDRIBFPFRPFYT3VK43BHWZ5EIS5UIPVGMITSWDK1\n"
     ]
    }
   ],
   "source": [
    "CLIENT_ID = 'TN32UEOPQPWXMDYXAIEPZ3C4G0Q2XG1KOI3K4P5BNBV5NIVL' # your Foursquare ID\n",
    "CLIENT_SECRET = 'VXCCMMIUMDRIBFPFRPFYT3VK43BHWZ5EIS5UIPVGMITSWDK1' # your Foursquare Secret\n",
    "VERSION = '20180604'\n",
    "LIMIT = 30\n",
    "print('Your credentails:')\n",
    "print('CLIENT_ID: ' + CLIENT_ID)\n",
    "print('CLIENT_SECRET:' + CLIENT_SECRET)"
   ]
  },
  {
   "cell_type": "code",
   "execution_count": 104,
   "metadata": {},
   "outputs": [
    {
     "data": {
      "text/html": [
       "<div>\n",
       "<style scoped>\n",
       "    .dataframe tbody tr th:only-of-type {\n",
       "        vertical-align: middle;\n",
       "    }\n",
       "\n",
       "    .dataframe tbody tr th {\n",
       "        vertical-align: top;\n",
       "    }\n",
       "\n",
       "    .dataframe thead th {\n",
       "        text-align: right;\n",
       "    }\n",
       "</style>\n",
       "<table border=\"1\" class=\"dataframe\">\n",
       "  <thead>\n",
       "    <tr style=\"text-align: right;\">\n",
       "      <th></th>\n",
       "      <th>#</th>\n",
       "      <th>Zip Code</th>\n",
       "      <th>Location</th>\n",
       "      <th>City</th>\n",
       "      <th>Population</th>\n",
       "      <th>% In College</th>\n",
       "      <th>National Rank</th>\n",
       "    </tr>\n",
       "  </thead>\n",
       "  <tbody>\n",
       "    <tr>\n",
       "      <td>0</td>\n",
       "      <td>1</td>\n",
       "      <td>55402</td>\n",
       "      <td>44.975968, -93.271425</td>\n",
       "      <td>Minneapolis, Minnesota</td>\n",
       "      <td>176</td>\n",
       "      <td>100.00 %</td>\n",
       "      <td>#18</td>\n",
       "    </tr>\n",
       "    <tr>\n",
       "      <td>1</td>\n",
       "      <td>2</td>\n",
       "      <td>55455</td>\n",
       "      <td>44.971734, -93.235244</td>\n",
       "      <td>Minneapolis, Minnesota</td>\n",
       "      <td>2,036</td>\n",
       "      <td>100.00 %</td>\n",
       "      <td>#19</td>\n",
       "    </tr>\n",
       "    <tr>\n",
       "      <td>2</td>\n",
       "      <td>3</td>\n",
       "      <td>55414</td>\n",
       "      <td>44.978043, -93.223019</td>\n",
       "      <td>Minneapolis, Minnesota</td>\n",
       "      <td>24,126</td>\n",
       "      <td>90.43 %</td>\n",
       "      <td>#147</td>\n",
       "    </tr>\n",
       "    <tr>\n",
       "      <td>3</td>\n",
       "      <td>4</td>\n",
       "      <td>55401</td>\n",
       "      <td>44.984334, -93.268720</td>\n",
       "      <td>Minneapolis, Minnesota</td>\n",
       "      <td>3,649</td>\n",
       "      <td>75.10 %</td>\n",
       "      <td>#281</td>\n",
       "    </tr>\n",
       "    <tr>\n",
       "      <td>4</td>\n",
       "      <td>5</td>\n",
       "      <td>55403</td>\n",
       "      <td>44.970570, -93.284032</td>\n",
       "      <td>Minneapolis, Minnesota</td>\n",
       "      <td>14,873</td>\n",
       "      <td>73.67 %</td>\n",
       "      <td>#309</td>\n",
       "    </tr>\n",
       "  </tbody>\n",
       "</table>\n",
       "</div>"
      ],
      "text/plain": [
       "   #  Zip Code               Location                    City Population  \\\n",
       "0  1     55402  44.975968, -93.271425  Minneapolis, Minnesota        176   \n",
       "1  2     55455  44.971734, -93.235244  Minneapolis, Minnesota      2,036   \n",
       "2  3     55414  44.978043, -93.223019  Minneapolis, Minnesota     24,126   \n",
       "3  4     55401  44.984334, -93.268720  Minneapolis, Minnesota      3,649   \n",
       "4  5     55403  44.970570, -93.284032  Minneapolis, Minnesota     14,873   \n",
       "\n",
       "  % In College National Rank  \n",
       "0     100.00 %           #18  \n",
       "1     100.00 %           #19  \n",
       "2      90.43 %          #147  \n",
       "3      75.10 %          #281  \n",
       "4      73.67 %          #309  "
      ]
     },
     "execution_count": 104,
     "metadata": {},
     "output_type": "execute_result"
    }
   ],
   "source": [
    "df = pd.read_csv('minneapolis_df.csv')\n",
    "df.head()"
   ]
  },
  {
   "cell_type": "code",
   "execution_count": 105,
   "metadata": {},
   "outputs": [
    {
     "data": {
      "text/html": [
       "<div>\n",
       "<style scoped>\n",
       "    .dataframe tbody tr th:only-of-type {\n",
       "        vertical-align: middle;\n",
       "    }\n",
       "\n",
       "    .dataframe tbody tr th {\n",
       "        vertical-align: top;\n",
       "    }\n",
       "\n",
       "    .dataframe thead th {\n",
       "        text-align: right;\n",
       "    }\n",
       "</style>\n",
       "<table border=\"1\" class=\"dataframe\">\n",
       "  <thead>\n",
       "    <tr style=\"text-align: right;\">\n",
       "      <th></th>\n",
       "      <th>#</th>\n",
       "      <th>Zip Code</th>\n",
       "      <th>Location</th>\n",
       "      <th>City</th>\n",
       "      <th>Population</th>\n",
       "      <th>% In College</th>\n",
       "      <th>National Rank</th>\n",
       "      <th>latitude</th>\n",
       "      <th>longitude</th>\n",
       "    </tr>\n",
       "  </thead>\n",
       "  <tbody>\n",
       "    <tr>\n",
       "      <td>0</td>\n",
       "      <td>1</td>\n",
       "      <td>55402</td>\n",
       "      <td>44.975968, -93.271425</td>\n",
       "      <td>Minneapolis, Minnesota</td>\n",
       "      <td>176</td>\n",
       "      <td>100.00 %</td>\n",
       "      <td>#18</td>\n",
       "      <td>44.975968</td>\n",
       "      <td>-93.271425</td>\n",
       "    </tr>\n",
       "    <tr>\n",
       "      <td>1</td>\n",
       "      <td>2</td>\n",
       "      <td>55455</td>\n",
       "      <td>44.971734, -93.235244</td>\n",
       "      <td>Minneapolis, Minnesota</td>\n",
       "      <td>2,036</td>\n",
       "      <td>100.00 %</td>\n",
       "      <td>#19</td>\n",
       "      <td>44.971734</td>\n",
       "      <td>-93.235244</td>\n",
       "    </tr>\n",
       "    <tr>\n",
       "      <td>2</td>\n",
       "      <td>3</td>\n",
       "      <td>55414</td>\n",
       "      <td>44.978043, -93.223019</td>\n",
       "      <td>Minneapolis, Minnesota</td>\n",
       "      <td>24,126</td>\n",
       "      <td>90.43 %</td>\n",
       "      <td>#147</td>\n",
       "      <td>44.978043</td>\n",
       "      <td>-93.223019</td>\n",
       "    </tr>\n",
       "    <tr>\n",
       "      <td>3</td>\n",
       "      <td>4</td>\n",
       "      <td>55401</td>\n",
       "      <td>44.984334, -93.268720</td>\n",
       "      <td>Minneapolis, Minnesota</td>\n",
       "      <td>3,649</td>\n",
       "      <td>75.10 %</td>\n",
       "      <td>#281</td>\n",
       "      <td>44.984334</td>\n",
       "      <td>-93.268720</td>\n",
       "    </tr>\n",
       "    <tr>\n",
       "      <td>4</td>\n",
       "      <td>5</td>\n",
       "      <td>55403</td>\n",
       "      <td>44.970570, -93.284032</td>\n",
       "      <td>Minneapolis, Minnesota</td>\n",
       "      <td>14,873</td>\n",
       "      <td>73.67 %</td>\n",
       "      <td>#309</td>\n",
       "      <td>44.970570</td>\n",
       "      <td>-93.284032</td>\n",
       "    </tr>\n",
       "  </tbody>\n",
       "</table>\n",
       "</div>"
      ],
      "text/plain": [
       "   #  Zip Code               Location                    City Population  \\\n",
       "0  1     55402  44.975968, -93.271425  Minneapolis, Minnesota        176   \n",
       "1  2     55455  44.971734, -93.235244  Minneapolis, Minnesota      2,036   \n",
       "2  3     55414  44.978043, -93.223019  Minneapolis, Minnesota     24,126   \n",
       "3  4     55401  44.984334, -93.268720  Minneapolis, Minnesota      3,649   \n",
       "4  5     55403  44.970570, -93.284032  Minneapolis, Minnesota     14,873   \n",
       "\n",
       "  % In College National Rank   latitude    longitude  \n",
       "0     100.00 %           #18  44.975968   -93.271425  \n",
       "1     100.00 %           #19  44.971734   -93.235244  \n",
       "2      90.43 %          #147  44.978043   -93.223019  \n",
       "3      75.10 %          #281  44.984334   -93.268720  \n",
       "4      73.67 %          #309  44.970570   -93.284032  "
      ]
     },
     "execution_count": 105,
     "metadata": {},
     "output_type": "execute_result"
    }
   ],
   "source": [
    "df[['latitude','longitude']] = df.Location.str.split(',', expand=True)\n",
    "df.head()"
   ]
  },
  {
   "cell_type": "code",
   "execution_count": 106,
   "metadata": {},
   "outputs": [
    {
     "data": {
      "text/html": [
       "<div>\n",
       "<style scoped>\n",
       "    .dataframe tbody tr th:only-of-type {\n",
       "        vertical-align: middle;\n",
       "    }\n",
       "\n",
       "    .dataframe tbody tr th {\n",
       "        vertical-align: top;\n",
       "    }\n",
       "\n",
       "    .dataframe thead th {\n",
       "        text-align: right;\n",
       "    }\n",
       "</style>\n",
       "<table border=\"1\" class=\"dataframe\">\n",
       "  <thead>\n",
       "    <tr style=\"text-align: right;\">\n",
       "      <th></th>\n",
       "      <th>Zip Code</th>\n",
       "      <th>Population</th>\n",
       "      <th>% In College</th>\n",
       "      <th>latitude</th>\n",
       "      <th>longitude</th>\n",
       "    </tr>\n",
       "  </thead>\n",
       "  <tbody>\n",
       "    <tr>\n",
       "      <td>0</td>\n",
       "      <td>55402</td>\n",
       "      <td>176</td>\n",
       "      <td>100.00 %</td>\n",
       "      <td>44.975968</td>\n",
       "      <td>-93.271425</td>\n",
       "    </tr>\n",
       "    <tr>\n",
       "      <td>1</td>\n",
       "      <td>55455</td>\n",
       "      <td>2,036</td>\n",
       "      <td>100.00 %</td>\n",
       "      <td>44.971734</td>\n",
       "      <td>-93.235244</td>\n",
       "    </tr>\n",
       "    <tr>\n",
       "      <td>2</td>\n",
       "      <td>55414</td>\n",
       "      <td>24,126</td>\n",
       "      <td>90.43 %</td>\n",
       "      <td>44.978043</td>\n",
       "      <td>-93.223019</td>\n",
       "    </tr>\n",
       "    <tr>\n",
       "      <td>3</td>\n",
       "      <td>55401</td>\n",
       "      <td>3,649</td>\n",
       "      <td>75.10 %</td>\n",
       "      <td>44.984334</td>\n",
       "      <td>-93.268720</td>\n",
       "    </tr>\n",
       "    <tr>\n",
       "      <td>4</td>\n",
       "      <td>55403</td>\n",
       "      <td>14,873</td>\n",
       "      <td>73.67 %</td>\n",
       "      <td>44.970570</td>\n",
       "      <td>-93.284032</td>\n",
       "    </tr>\n",
       "  </tbody>\n",
       "</table>\n",
       "</div>"
      ],
      "text/plain": [
       "   Zip Code Population % In College   latitude    longitude\n",
       "0     55402        176     100.00 %  44.975968   -93.271425\n",
       "1     55455      2,036     100.00 %  44.971734   -93.235244\n",
       "2     55414     24,126      90.43 %  44.978043   -93.223019\n",
       "3     55401      3,649      75.10 %  44.984334   -93.268720\n",
       "4     55403     14,873      73.67 %  44.970570   -93.284032"
      ]
     },
     "execution_count": 106,
     "metadata": {},
     "output_type": "execute_result"
    }
   ],
   "source": [
    "df.drop(['City', 'National Rank', '#', 'Location'], axis=1, inplace = True)\n",
    "df.head()"
   ]
  },
  {
   "cell_type": "code",
   "execution_count": 107,
   "metadata": {},
   "outputs": [
    {
     "data": {
      "text/html": [
       "<div>\n",
       "<style scoped>\n",
       "    .dataframe tbody tr th:only-of-type {\n",
       "        vertical-align: middle;\n",
       "    }\n",
       "\n",
       "    .dataframe tbody tr th {\n",
       "        vertical-align: top;\n",
       "    }\n",
       "\n",
       "    .dataframe thead th {\n",
       "        text-align: right;\n",
       "    }\n",
       "</style>\n",
       "<table border=\"1\" class=\"dataframe\">\n",
       "  <thead>\n",
       "    <tr style=\"text-align: right;\">\n",
       "      <th></th>\n",
       "      <th>zipcode</th>\n",
       "      <th>population</th>\n",
       "      <th>percentCollege</th>\n",
       "      <th>latitude</th>\n",
       "      <th>longitude</th>\n",
       "    </tr>\n",
       "  </thead>\n",
       "  <tbody>\n",
       "    <tr>\n",
       "      <td>0</td>\n",
       "      <td>55402</td>\n",
       "      <td>176</td>\n",
       "      <td>100.00 %</td>\n",
       "      <td>44.975968</td>\n",
       "      <td>-93.271425</td>\n",
       "    </tr>\n",
       "    <tr>\n",
       "      <td>1</td>\n",
       "      <td>55455</td>\n",
       "      <td>2,036</td>\n",
       "      <td>100.00 %</td>\n",
       "      <td>44.971734</td>\n",
       "      <td>-93.235244</td>\n",
       "    </tr>\n",
       "    <tr>\n",
       "      <td>2</td>\n",
       "      <td>55414</td>\n",
       "      <td>24,126</td>\n",
       "      <td>90.43 %</td>\n",
       "      <td>44.978043</td>\n",
       "      <td>-93.223019</td>\n",
       "    </tr>\n",
       "    <tr>\n",
       "      <td>3</td>\n",
       "      <td>55401</td>\n",
       "      <td>3,649</td>\n",
       "      <td>75.10 %</td>\n",
       "      <td>44.984334</td>\n",
       "      <td>-93.268720</td>\n",
       "    </tr>\n",
       "    <tr>\n",
       "      <td>4</td>\n",
       "      <td>55403</td>\n",
       "      <td>14,873</td>\n",
       "      <td>73.67 %</td>\n",
       "      <td>44.970570</td>\n",
       "      <td>-93.284032</td>\n",
       "    </tr>\n",
       "  </tbody>\n",
       "</table>\n",
       "</div>"
      ],
      "text/plain": [
       "   zipcode population percentCollege   latitude    longitude\n",
       "0    55402        176       100.00 %  44.975968   -93.271425\n",
       "1    55455      2,036       100.00 %  44.971734   -93.235244\n",
       "2    55414     24,126        90.43 %  44.978043   -93.223019\n",
       "3    55401      3,649        75.10 %  44.984334   -93.268720\n",
       "4    55403     14,873        73.67 %  44.970570   -93.284032"
      ]
     },
     "execution_count": 107,
     "metadata": {},
     "output_type": "execute_result"
    }
   ],
   "source": [
    "df.rename(columns={\"Zip Code\": \"zipcode\", \"Population\": \"population\", \"% In College\": \"percentCollege\"}, inplace = True)\n",
    "df.head()"
   ]
  },
  {
   "cell_type": "code",
   "execution_count": 108,
   "metadata": {},
   "outputs": [],
   "source": [
    "import re\n",
    "\n",
    "exp = re.compile(r'%')\n",
    "df['percentCollege'] = [exp.sub('', x) for x in df['percentCollege']]"
   ]
  },
  {
   "cell_type": "code",
   "execution_count": 109,
   "metadata": {},
   "outputs": [
    {
     "data": {
      "text/html": [
       "<div>\n",
       "<style scoped>\n",
       "    .dataframe tbody tr th:only-of-type {\n",
       "        vertical-align: middle;\n",
       "    }\n",
       "\n",
       "    .dataframe tbody tr th {\n",
       "        vertical-align: top;\n",
       "    }\n",
       "\n",
       "    .dataframe thead th {\n",
       "        text-align: right;\n",
       "    }\n",
       "</style>\n",
       "<table border=\"1\" class=\"dataframe\">\n",
       "  <thead>\n",
       "    <tr style=\"text-align: right;\">\n",
       "      <th></th>\n",
       "      <th>zipcode</th>\n",
       "      <th>population</th>\n",
       "      <th>percentCollege</th>\n",
       "      <th>latitude</th>\n",
       "      <th>longitude</th>\n",
       "    </tr>\n",
       "  </thead>\n",
       "  <tbody>\n",
       "    <tr>\n",
       "      <td>0</td>\n",
       "      <td>55402</td>\n",
       "      <td>176</td>\n",
       "      <td>100.00</td>\n",
       "      <td>44.975968</td>\n",
       "      <td>-93.271425</td>\n",
       "    </tr>\n",
       "    <tr>\n",
       "      <td>1</td>\n",
       "      <td>55455</td>\n",
       "      <td>2,036</td>\n",
       "      <td>100.00</td>\n",
       "      <td>44.971734</td>\n",
       "      <td>-93.235244</td>\n",
       "    </tr>\n",
       "    <tr>\n",
       "      <td>2</td>\n",
       "      <td>55414</td>\n",
       "      <td>24,126</td>\n",
       "      <td>90.43</td>\n",
       "      <td>44.978043</td>\n",
       "      <td>-93.223019</td>\n",
       "    </tr>\n",
       "    <tr>\n",
       "      <td>3</td>\n",
       "      <td>55401</td>\n",
       "      <td>3,649</td>\n",
       "      <td>75.10</td>\n",
       "      <td>44.984334</td>\n",
       "      <td>-93.268720</td>\n",
       "    </tr>\n",
       "    <tr>\n",
       "      <td>4</td>\n",
       "      <td>55403</td>\n",
       "      <td>14,873</td>\n",
       "      <td>73.67</td>\n",
       "      <td>44.970570</td>\n",
       "      <td>-93.284032</td>\n",
       "    </tr>\n",
       "  </tbody>\n",
       "</table>\n",
       "</div>"
      ],
      "text/plain": [
       "   zipcode population percentCollege   latitude    longitude\n",
       "0    55402        176        100.00   44.975968   -93.271425\n",
       "1    55455      2,036        100.00   44.971734   -93.235244\n",
       "2    55414     24,126         90.43   44.978043   -93.223019\n",
       "3    55401      3,649         75.10   44.984334   -93.268720\n",
       "4    55403     14,873         73.67   44.970570   -93.284032"
      ]
     },
     "execution_count": 109,
     "metadata": {},
     "output_type": "execute_result"
    }
   ],
   "source": [
    "df.head()"
   ]
  },
  {
   "cell_type": "code",
   "execution_count": 110,
   "metadata": {},
   "outputs": [
    {
     "data": {
      "text/plain": [
       "zipcode            int64\n",
       "population        object\n",
       "percentCollege    object\n",
       "latitude          object\n",
       "longitude         object\n",
       "dtype: object"
      ]
     },
     "execution_count": 110,
     "metadata": {},
     "output_type": "execute_result"
    }
   ],
   "source": [
    "df.dtypes"
   ]
  },
  {
   "cell_type": "code",
   "execution_count": 111,
   "metadata": {},
   "outputs": [],
   "source": [
    "#change datatypes of latitude and longitude \n",
    "df[[\"percentCollege\",\"latitude\", \"longitude\"]] = df[[\"percentCollege\",\"latitude\", \"longitude\"]].apply(pd.to_numeric, errors='coerce')"
   ]
  },
  {
   "cell_type": "code",
   "execution_count": 112,
   "metadata": {},
   "outputs": [
    {
     "data": {
      "text/plain": [
       "zipcode             int64\n",
       "population         object\n",
       "percentCollege    float64\n",
       "latitude          float64\n",
       "longitude         float64\n",
       "dtype: object"
      ]
     },
     "execution_count": 112,
     "metadata": {},
     "output_type": "execute_result"
    }
   ],
   "source": [
    "df.dtypes"
   ]
  },
  {
   "cell_type": "code",
   "execution_count": 113,
   "metadata": {},
   "outputs": [
    {
     "data": {
      "text/html": [
       "<div>\n",
       "<style scoped>\n",
       "    .dataframe tbody tr th:only-of-type {\n",
       "        vertical-align: middle;\n",
       "    }\n",
       "\n",
       "    .dataframe tbody tr th {\n",
       "        vertical-align: top;\n",
       "    }\n",
       "\n",
       "    .dataframe thead th {\n",
       "        text-align: right;\n",
       "    }\n",
       "</style>\n",
       "<table border=\"1\" class=\"dataframe\">\n",
       "  <thead>\n",
       "    <tr style=\"text-align: right;\">\n",
       "      <th></th>\n",
       "      <th>zipcode</th>\n",
       "      <th>population</th>\n",
       "      <th>percentCollege</th>\n",
       "      <th>latitude</th>\n",
       "      <th>longitude</th>\n",
       "    </tr>\n",
       "  </thead>\n",
       "  <tbody>\n",
       "    <tr>\n",
       "      <td>0</td>\n",
       "      <td>55402</td>\n",
       "      <td>176</td>\n",
       "      <td>100.00</td>\n",
       "      <td>44.975968</td>\n",
       "      <td>-93.271425</td>\n",
       "    </tr>\n",
       "    <tr>\n",
       "      <td>1</td>\n",
       "      <td>55455</td>\n",
       "      <td>2,036</td>\n",
       "      <td>100.00</td>\n",
       "      <td>44.971734</td>\n",
       "      <td>-93.235244</td>\n",
       "    </tr>\n",
       "    <tr>\n",
       "      <td>2</td>\n",
       "      <td>55414</td>\n",
       "      <td>24,126</td>\n",
       "      <td>90.43</td>\n",
       "      <td>44.978043</td>\n",
       "      <td>-93.223019</td>\n",
       "    </tr>\n",
       "    <tr>\n",
       "      <td>3</td>\n",
       "      <td>55401</td>\n",
       "      <td>3,649</td>\n",
       "      <td>75.10</td>\n",
       "      <td>44.984334</td>\n",
       "      <td>-93.268720</td>\n",
       "    </tr>\n",
       "    <tr>\n",
       "      <td>4</td>\n",
       "      <td>55403</td>\n",
       "      <td>14,873</td>\n",
       "      <td>73.67</td>\n",
       "      <td>44.970570</td>\n",
       "      <td>-93.284032</td>\n",
       "    </tr>\n",
       "  </tbody>\n",
       "</table>\n",
       "</div>"
      ],
      "text/plain": [
       "   zipcode population  percentCollege   latitude  longitude\n",
       "0    55402        176          100.00  44.975968 -93.271425\n",
       "1    55455      2,036          100.00  44.971734 -93.235244\n",
       "2    55414     24,126           90.43  44.978043 -93.223019\n",
       "3    55401      3,649           75.10  44.984334 -93.268720\n",
       "4    55403     14,873           73.67  44.970570 -93.284032"
      ]
     },
     "execution_count": 113,
     "metadata": {},
     "output_type": "execute_result"
    }
   ],
   "source": [
    "df.head()"
   ]
  },
  {
   "cell_type": "code",
   "execution_count": 52,
   "metadata": {},
   "outputs": [
    {
     "name": "stdout",
     "output_type": "stream",
     "text": [
      "The geograpical coordinate of Minneapolis are 44.9772995, -93.2654692.\n"
     ]
    }
   ],
   "source": [
    "address = 'Minneapolis, Minnesota'\n",
    "\n",
    "geolocator = Nominatim(user_agent=\"minneapolis_explorer\")\n",
    "location = geolocator.geocode(address)\n",
    "latitude = location.latitude\n",
    "longitude = location.longitude\n",
    "print('The geograpical coordinate of Minneapolis are {}, {}.'.format(latitude, longitude))"
   ]
  },
  {
   "cell_type": "code",
   "execution_count": 114,
   "metadata": {},
   "outputs": [
    {
     "data": {
      "text/html": [
       "<div style=\"width:100%;\"><div style=\"position:relative;width:100%;height:0;padding-bottom:60%;\"><span style=\"color:#565656\">Make this Notebook Trusted to load map: File -> Trust Notebook</span><iframe src=\"about:blank\" style=\"position:absolute;width:100%;height:100%;left:0;top:0;border:none !important;\" data-html=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 onload=\"this.contentDocument.open();this.contentDocument.write(atob(this.getAttribute('data-html')));this.contentDocument.close();\" allowfullscreen webkitallowfullscreen mozallowfullscreen></iframe></div></div>"
      ],
      "text/plain": [
       "<folium.folium.Map at 0x126c73310>"
      ]
     },
     "execution_count": 114,
     "metadata": {},
     "output_type": "execute_result"
    }
   ],
   "source": [
    "# create map of Minneapolis using latitude and longitude values\n",
    "map_minn = folium.Map(location = [latitude, longitude], zoom_start = 10)\n",
    "\n",
    "# add markers to map\n",
    "for lat, lng, zipcode in zip(df['latitude'], df['longitude'], df['zipcode']):\n",
    "    label = '{}'.format(zipcode)\n",
    "    label = folium.Popup(label, parse_html=True)\n",
    "    folium.CircleMarker(\n",
    "        [lat, lng],\n",
    "        radius=5,\n",
    "        popup=label,\n",
    "        color='blue',\n",
    "        fill=True,\n",
    "        fill_color='#3186cc',\n",
    "        fill_opacity=0.7,\n",
    "        parse_html=False).add_to(map_minn)  \n",
    "    \n",
    "map_minn"
   ]
  },
  {
   "cell_type": "code",
   "execution_count": null,
   "metadata": {},
   "outputs": [],
   "source": []
  }
 ],
 "metadata": {
  "kernelspec": {
   "display_name": "Python 3",
   "language": "python",
   "name": "python3"
  },
  "language_info": {
   "codemirror_mode": {
    "name": "ipython",
    "version": 3
   },
   "file_extension": ".py",
   "mimetype": "text/x-python",
   "name": "python",
   "nbconvert_exporter": "python",
   "pygments_lexer": "ipython3",
   "version": "3.7.4"
  }
 },
 "nbformat": 4,
 "nbformat_minor": 2
}
